{
 "cells": [
  {
   "cell_type": "markdown",
   "id": "4c3a9aba",
   "metadata": {},
   "source": [
    "# 🤝 Chapter 6: Pair Programming – Explainable AI with SHAP"
   ]
  },
  {
   "cell_type": "markdown",
   "id": "60b06fa9",
   "metadata": {},
   "source": [
    "**⏱️ Estimated Duration:** 3–4 hours  \n",
    "**🎯 Task:** Use SHAP to interpret an XGBoost model trained for energy prediction. Complete all blanks (`___`), discuss with your partner, and reflect on insights."
   ]
  },
  {
   "cell_type": "markdown",
   "id": "e9e2dacb",
   "metadata": {},
   "source": [
    "## ✅ Task 1: Install & Import"
   ]
  },
  {
   "cell_type": "code",
   "execution_count": null,
   "id": "c39208c2",
   "metadata": {},
   "outputs": [],
   "source": [
    "!pip install ___ --quiet\n",
    "import shap\n",
    "import xgboost as xgb\n",
    "import pandas as pd"
   ]
  },
  {
   "cell_type": "markdown",
   "id": "662cd2f5",
   "metadata": {},
   "source": [
    "## ✅ Task 2: Load Data & Model"
   ]
  },
  {
   "cell_type": "code",
   "execution_count": null,
   "id": "e4c66f02",
   "metadata": {},
   "outputs": [],
   "source": [
    "df = pd.read_csv('data/___')\n",
    "X = df.drop(columns=['Global_active_power', 'datetime'])\n",
    "model = xgb.Booster()\n",
    "model.load_model('models/___')"
   ]
  },
  {
   "cell_type": "markdown",
   "id": "9f53c987",
   "metadata": {},
   "source": [
    "## ✅ Task 3: Compute SHAP Values"
   ]
  },
  {
   "cell_type": "code",
   "execution_count": null,
   "id": "fa9aad6a",
   "metadata": {},
   "outputs": [],
   "source": [
    "explainer = ___(model)\n",
    "shap_values = ___"
   ]
  },
  {
   "cell_type": "markdown",
   "id": "023a2676",
   "metadata": {},
   "source": [
    "## ✅ Task 4: Visualize Global Importance"
   ]
  },
  {
   "cell_type": "code",
   "execution_count": null,
   "id": "44db53d1",
   "metadata": {},
   "outputs": [],
   "source": [
    "shap.plots.bar(___)"
   ]
  },
  {
   "cell_type": "markdown",
   "id": "1ca37e99",
   "metadata": {},
   "source": [
    "## ✅ Task 5: Beeswarm Plot"
   ]
  },
  {
   "cell_type": "code",
   "execution_count": null,
   "id": "ba9b090b",
   "metadata": {},
   "outputs": [],
   "source": [
    "shap.plots.beeswarm(___)"
   ]
  },
  {
   "cell_type": "markdown",
   "id": "8183bc36",
   "metadata": {},
   "source": [
    "## ✅ Task 6: Feature-Level Insights"
   ]
  },
  {
   "cell_type": "code",
   "execution_count": null,
   "id": "6ca497c0",
   "metadata": {},
   "outputs": [],
   "source": [
    "shap.plots.scatter(___[:, 'hour_cos'])"
   ]
  },
  {
   "cell_type": "markdown",
   "id": "4ab31e46",
   "metadata": {},
   "source": [
    "## 💪 Stretch Challenge 1: Custom Sample Inference"
   ]
  },
  {
   "cell_type": "code",
   "execution_count": null,
   "id": "411d3766",
   "metadata": {},
   "outputs": [],
   "source": [
    "sample = X.iloc[[5]]\n",
    "___"
   ]
  },
  {
   "cell_type": "markdown",
   "id": "99fa241f",
   "metadata": {},
   "source": [
    "## 💪 Stretch Challenge 2: Compare SHAP with Permutation Importance"
   ]
  },
  {
   "cell_type": "code",
   "execution_count": null,
   "id": "49abce91",
   "metadata": {},
   "outputs": [],
   "source": [
    "# Hint: Use sklearn's permutation_importance or manually shuffle columns\n",
    "# ✍️ Implement comparison below:\n"
   ]
  },
  {
   "cell_type": "markdown",
   "id": "4e6c7a5c",
   "metadata": {},
   "source": [
    "## 💬 Final Discussion"
   ]
  },
  {
   "cell_type": "markdown",
   "id": "d837a8c7",
   "metadata": {},
   "source": [
    "> 🔍 Which SHAP insights surprised you most? Could these insights drive business decisions or optimizations?"
   ]
  }
 ],
 "metadata": {},
 "nbformat": 4,
 "nbformat_minor": 5
}
