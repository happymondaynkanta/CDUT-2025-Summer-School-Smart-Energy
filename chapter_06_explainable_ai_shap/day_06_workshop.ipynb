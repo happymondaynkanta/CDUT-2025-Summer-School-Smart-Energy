{
 "cells": [
  {
   "cell_type": "markdown",
   "id": "41f24a8c",
   "metadata": {},
   "source": [
    "# 🎓 Chapter 6: Explainable AI with SHAP"
   ]
  },
  {
   "cell_type": "markdown",
   "id": "6ef4a306",
   "metadata": {},
   "source": [
    "In this workshop, we’ll use SHAP to interpret our trained XGBoost model from Chapter 5."
   ]
  },
  {
   "cell_type": "markdown",
   "id": "1d3a6062",
   "metadata": {},
   "source": [
    "## 1. Install & Import Packages"
   ]
  },
  {
   "cell_type": "code",
   "execution_count": null,
   "id": "045e0ed7",
   "metadata": {},
   "outputs": [],
   "source": [
    "!pip install shap xgboost --quiet\n",
    "import shap\n",
    "import xgboost as xgb\n",
    "import pandas as pd\n",
    "import matplotlib.pyplot as plt"
   ]
  },
  {
   "cell_type": "markdown",
   "id": "6dfbb5ba",
   "metadata": {},
   "source": [
    "## 2. Load Dataset & Trained Model"
   ]
  },
  {
   "cell_type": "code",
   "execution_count": null,
   "id": "9aefb46c",
   "metadata": {},
   "outputs": [],
   "source": [
    "df = pd.read_csv('data/features.csv')\n",
    "X = df.drop(columns=['Global_active_power', 'datetime'])\n",
    "model = xgb.Booster()\n",
    "model.load_model('models/xgb_energy_model.json')"
   ]
  },
  {
   "cell_type": "markdown",
   "id": "7c57450d",
   "metadata": {},
   "source": [
    "## 3. Explain with SHAP TreeExplainer"
   ]
  },
  {
   "cell_type": "code",
   "execution_count": null,
   "id": "62088276",
   "metadata": {},
   "outputs": [],
   "source": [
    "explainer = shap.TreeExplainer(model)\n",
    "shap_values = explainer.shap_values(X)"
   ]
  },
  {
   "cell_type": "markdown",
   "id": "14c25584",
   "metadata": {},
   "source": [
    "## 4. Beeswarm Plot – Global View"
   ]
  },
  {
   "cell_type": "code",
   "execution_count": null,
   "id": "da7be69a",
   "metadata": {},
   "outputs": [],
   "source": [
    "shap.plots.beeswarm(shap.Explanation(values=shap_values, data=X, feature_names=X.columns))"
   ]
  },
  {
   "cell_type": "markdown",
   "id": "b1d0931a",
   "metadata": {},
   "source": [
    "## 5. Bar Plot – Top Features"
   ]
  },
  {
   "cell_type": "code",
   "execution_count": null,
   "id": "38c4efb7",
   "metadata": {},
   "outputs": [],
   "source": [
    "shap.plots.bar(shap.Explanation(values=shap_values, data=X, feature_names=X.columns))"
   ]
  },
  {
   "cell_type": "markdown",
   "id": "16d0bb77",
   "metadata": {},
   "source": [
    "## 6. Dependence Plot – Local Relationships"
   ]
  },
  {
   "cell_type": "code",
   "execution_count": null,
   "id": "30afc10c",
   "metadata": {},
   "outputs": [],
   "source": [
    "shap.plots.scatter(shap.Explanation(values=shap_values, data=X, feature_names=X.columns)[:, 'hour_cos'])"
   ]
  },
  {
   "cell_type": "markdown",
   "id": "2ba6e13e",
   "metadata": {},
   "source": [
    "## 7. Sample Insight"
   ]
  },
  {
   "cell_type": "code",
   "execution_count": null,
   "id": "d198ebe9",
   "metadata": {},
   "outputs": [],
   "source": [
    "sample = X.iloc[[0]]\n",
    "shap.plots.waterfall(explainer(sample))"
   ]
  },
  {
   "cell_type": "markdown",
   "id": "e1b961c8",
   "metadata": {},
   "source": [
    "## 8. Reflect on Results"
   ]
  },
  {
   "cell_type": "markdown",
   "id": "62f5dc90",
   "metadata": {},
   "source": [
    "> ✍️ Discuss: Which features have the most consistent influence on predictions? What might this mean operationally?"
   ]
  }
 ],
 "metadata": {},
 "nbformat": 4,
 "nbformat_minor": 5
}
