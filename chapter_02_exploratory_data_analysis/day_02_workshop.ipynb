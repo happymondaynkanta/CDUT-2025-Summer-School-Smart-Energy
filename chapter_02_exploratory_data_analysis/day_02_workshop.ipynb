{
 "cells": [
  {
   "cell_type": "markdown",
   "id": "9a79b9d0",
   "metadata": {},
   "source": [
    "# Chapter 2: Exploratory Data Analysis (EDA)"
   ]
  },
  {
   "cell_type": "markdown",
   "id": "de0b7168",
   "metadata": {},
   "source": [
    "This notebook covers guided Exploratory Data Analysis techniques using pandas and matplotlib."
   ]
  },
  {
   "cell_type": "code",
   "execution_count": null,
   "id": "1c34d59f",
   "metadata": {},
   "outputs": [],
   "source": [
    "import pandas as pd\n",
    "import matplotlib.pyplot as plt\n",
    "import seaborn as sns"
   ]
  },
  {
   "cell_type": "code",
   "execution_count": null,
   "id": "965588cd",
   "metadata": {},
   "outputs": [],
   "source": [
    "df = pd.read_csv('household_power_consumption.txt', \\\n",
    "                 sep=';', \\\n",
    "                 parse_dates={'datetime': ['Date', 'Time']}, \\\n",
    "                 infer_datetime_format=True, \\\n",
    "                 na_values='?', \\\n",
    "                 low_memory=False)"
   ]
  },
  {
   "cell_type": "code",
   "execution_count": null,
   "id": "86566cbb",
   "metadata": {},
   "outputs": [],
   "source": [
    "df.info()\n",
    "df.describe()"
   ]
  },
  {
   "cell_type": "code",
   "execution_count": null,
   "id": "8af8d5a5",
   "metadata": {},
   "outputs": [],
   "source": [
    "df.isna().sum()\n",
    "df_clean = df.dropna()"
   ]
  },
  {
   "cell_type": "code",
   "execution_count": null,
   "id": "420cdb52",
   "metadata": {},
   "outputs": [],
   "source": [
    "plt.figure(figsize=(10, 4))\n",
    "df_clean['Global_active_power'].hist(bins=100)\n",
    "plt.title('Global Active Power Distribution')\n",
    "plt.xlabel('Global Active Power (kilowatts)')\n",
    "plt.ylabel('Frequency')\n",
    "plt.show()"
   ]
  },
  {
   "cell_type": "code",
   "execution_count": null,
   "id": "9a0f0015",
   "metadata": {},
   "outputs": [],
   "source": [
    "plt.figure(figsize=(14, 4))\n",
    "df_clean.set_index('datetime')['Global_active_power'].plot()\n",
    "plt.title('Global Active Power Over Time')\n",
    "plt.ylabel('Kilowatts')\n",
    "plt.xlabel('Time')\n",
    "plt.tight_layout()\n",
    "plt.show()"
   ]
  }
 ],
 "metadata": {},
 "nbformat": 4,
 "nbformat_minor": 5
}
