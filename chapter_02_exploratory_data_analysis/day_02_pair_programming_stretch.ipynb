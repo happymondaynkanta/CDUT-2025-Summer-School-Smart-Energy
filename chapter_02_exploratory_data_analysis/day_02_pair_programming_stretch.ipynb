{
 "cells": [
  {
   "cell_type": "markdown",
   "id": "6960d78e",
   "metadata": {},
   "source": [
    "# 🤝 Expanded Pair Programming Task\n",
    "**⏱️ Estimated Duration:** 3–4 hours\n",
    "**🎯 Goal:** Fill in the blanks (___), answer embedded questions, and attempt optional stretch goals. Work in pairs and annotate your thought process!"
   ]
  },
  {
   "cell_type": "markdown",
   "id": "7dfe9d4d",
   "metadata": {},
   "source": [
    "# 🧑‍🤝‍🧑 Chapter 2: Pair Programming Task – EDA\n",
    "\n",
    "> 💬 *Discuss with your partner: Why is this step important?*"
   ]
  },
  {
   "cell_type": "markdown",
   "id": "69fc0586",
   "metadata": {},
   "source": [
    "Fill in the blanks (`___`) using what you’ve learned in class.\n",
    "\n",
    "> 💬 *Discuss with your partner: Why is this step important?*"
   ]
  },
  {
   "cell_type": "code",
   "execution_count": null,
   "id": "9b6f387f",
   "metadata": {},
   "outputs": [],
   "source": [
    "# 🔧 TODO: Complete the missing code below 👇\n",
    "import pandas as ___\n",
    "import matplotlib.pyplot as ___"
   ]
  },
  {
   "cell_type": "code",
   "execution_count": null,
   "id": "85d98295",
   "metadata": {},
   "outputs": [],
   "source": [
    "# 🔧 TODO: Complete the missing code below 👇\n",
    "df = pd.read_csv('household_power_consumption.txt', \\\n",
    "                 sep='___', \\\n",
    "                 parse_dates={'datetime': ['Date', 'Time']}, \\\n",
    "                 na_values='___', \\\n",
    "                 low_memory=False)"
   ]
  },
  {
   "cell_type": "code",
   "execution_count": null,
   "id": "5bc835c8",
   "metadata": {},
   "outputs": [],
   "source": [
    "# 🔧 TODO: Complete the missing code below 👇\n",
    "print(df.___())"
   ]
  },
  {
   "cell_type": "code",
   "execution_count": null,
   "id": "d3ddabf8",
   "metadata": {},
   "outputs": [],
   "source": [
    "# 🔧 TODO: Complete the missing code below 👇\n",
    "df_clean = df.___()"
   ]
  },
  {
   "cell_type": "code",
   "execution_count": null,
   "id": "e726a56f",
   "metadata": {},
   "outputs": [],
   "source": [
    "# 🔧 TODO: Complete the missing code below 👇\n",
    "df_clean['Global_active_power'].___(___=100)"
   ]
  },
  {
   "cell_type": "code",
   "execution_count": null,
   "id": "cffa8504",
   "metadata": {},
   "outputs": [],
   "source": [
    "# 🔧 TODO: Complete the missing code below 👇\n",
    "df_clean.set_index('datetime')['Global_active_power'].___()"
   ]
  },
  {
   "cell_type": "markdown",
   "id": "286a3990",
   "metadata": {},
   "source": [
    "---\n",
    "## 💪 Final Stretch Challenge\n",
    "**Write a function** that automates a key task from above (e.g., EDA, scaling, or metric computation), and apply it on a test subset.\n",
    "Can you visualize the impact of your feature or model using plots? Comment below!"
   ]
  },
  {
   "cell_type": "code",
   "execution_count": null,
   "id": "e4de5a4a",
   "metadata": {},
   "outputs": [],
   "source": [
    "# ✍️ Write your custom function here:\n"
   ]
  }
 ],
 "metadata": {},
 "nbformat": 4,
 "nbformat_minor": 5
}
