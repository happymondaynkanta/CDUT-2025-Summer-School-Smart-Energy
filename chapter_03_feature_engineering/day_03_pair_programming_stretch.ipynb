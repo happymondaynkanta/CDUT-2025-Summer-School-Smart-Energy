{
 "cells": [
  {
   "cell_type": "markdown",
   "id": "22826de0",
   "metadata": {},
   "source": [
    "# 🤝 Expanded Pair Programming Task\n",
    "**⏱️ Estimated Duration:** 3–4 hours\n",
    "**🎯 Goal:** Fill in the blanks (___), answer embedded questions, and attempt optional stretch goals. Work in pairs and annotate your thought process!"
   ]
  },
  {
   "cell_type": "markdown",
   "id": "03682932",
   "metadata": {},
   "source": [
    "# 🤝 Chapter 3: Pair Programming Task – Feature Engineering\n",
    "\n",
    "> 💬 *Discuss with your partner: Why is this step important?*"
   ]
  },
  {
   "cell_type": "markdown",
   "id": "174e8de2",
   "metadata": {},
   "source": [
    "Fill in the blanks (`___`) based on your understanding from the lecture.\n",
    "\n",
    "> 💬 *Discuss with your partner: Why is this step important?*"
   ]
  },
  {
   "cell_type": "code",
   "execution_count": null,
   "id": "68583e1f",
   "metadata": {},
   "outputs": [],
   "source": [
    "# 🔧 TODO: Complete the missing code below 👇\n",
    "import pandas as ___\n",
    "\n",
    "df = pd.read_csv('data/household_power_consumption_cleaned.csv', parse_dates=['datetime'])"
   ]
  },
  {
   "cell_type": "code",
   "execution_count": null,
   "id": "29c012d8",
   "metadata": {},
   "outputs": [],
   "source": [
    "# 🔧 TODO: Complete the missing code below 👇\n",
    "numeric_cols = ['Global_active_power','Global_reactive_power','Voltage',\n",
    "                'Global_intensity','Sub_metering_1','Sub_metering_2','Sub_metering_3']\n",
    "df[numeric_cols] = df[numeric_cols].astype(___)"
   ]
  },
  {
   "cell_type": "code",
   "execution_count": null,
   "id": "38e07e77",
   "metadata": {},
   "outputs": [],
   "source": [
    "# 🔧 TODO: Complete the missing code below 👇\n",
    "df['hour'] = df['datetime'].dt.___\n",
    "df['day_of_week'] = df['datetime'].dt.___"
   ]
  },
  {
   "cell_type": "code",
   "execution_count": null,
   "id": "a7edce2c",
   "metadata": {},
   "outputs": [],
   "source": [
    "# 🔧 TODO: Complete the missing code below 👇\n",
    "import numpy as ___\n",
    "df['hour_sin'] = np.___(2 * np.pi * df['hour']/24)\n",
    "df['hour_cos'] = np.___(2 * np.pi * df['hour']/24)"
   ]
  },
  {
   "cell_type": "code",
   "execution_count": null,
   "id": "9c23d755",
   "metadata": {},
   "outputs": [],
   "source": [
    "# 🔧 TODO: Complete the missing code below 👇\n",
    "from sklearn.preprocessing import ___, ___\n",
    "scaler_std = ___()\n",
    "df_std = pd.DataFrame(scaler_std.fit_transform(df[numeric_cols]), columns=numeric_cols)"
   ]
  },
  {
   "cell_type": "code",
   "execution_count": null,
   "id": "f90b47f3",
   "metadata": {},
   "outputs": [],
   "source": [
    "# 🔧 TODO: Complete the missing code below 👇\n",
    "df['Apparent_Power'] = (df['Global_active_power']**2 + df['Global_reactive_power']**2)**___"
   ]
  },
  {
   "cell_type": "code",
   "execution_count": null,
   "id": "2ad87b43",
   "metadata": {},
   "outputs": [],
   "source": [
    "# 🔧 TODO: Complete the missing code below 👇\n",
    "df.to_csv('data/features.csv', index=___)"
   ]
  },
  {
   "cell_type": "markdown",
   "id": "4ca81b9c",
   "metadata": {},
   "source": [
    "---\n",
    "## 💪 Final Stretch Challenge\n",
    "**Write a function** that automates a key task from above (e.g., EDA, scaling, or metric computation), and apply it on a test subset.\n",
    "Can you visualize the impact of your feature or model using plots? Comment below!"
   ]
  },
  {
   "cell_type": "code",
   "execution_count": null,
   "id": "5a34bfd9",
   "metadata": {},
   "outputs": [],
   "source": [
    "# ✍️ Write your custom function here:\n"
   ]
  }
 ],
 "metadata": {},
 "nbformat": 4,
 "nbformat_minor": 5
}
