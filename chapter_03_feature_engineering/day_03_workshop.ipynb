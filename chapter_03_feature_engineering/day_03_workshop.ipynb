{
 "cells": [
  {
   "cell_type": "markdown",
   "id": "cfdc084d",
   "metadata": {},
   "source": [
    "# Chapter 3: Feature Engineering 🛠️"
   ]
  },
  {
   "cell_type": "markdown",
   "id": "cd1621c7",
   "metadata": {},
   "source": [
    "In this notebook, we will engineer time-based features, apply scaling and normalization, and create interaction features from the cleaned power consumption dataset."
   ]
  },
  {
   "cell_type": "markdown",
   "id": "4e76c745",
   "metadata": {},
   "source": [
    "## 1. Load the Cleaned Dataset"
   ]
  },
  {
   "cell_type": "code",
   "execution_count": null,
   "id": "8d557f3b",
   "metadata": {},
   "outputs": [],
   "source": [
    "import pandas as pd\n",
    "\n",
    "df = pd.read_csv('data/household_power_consumption_cleaned.csv', parse_dates=['datetime'])"
   ]
  },
  {
   "cell_type": "markdown",
   "id": "bc0a4f4a",
   "metadata": {},
   "source": [
    "## 2. Convert Columns to Numeric (Ensure Consistency)"
   ]
  },
  {
   "cell_type": "code",
   "execution_count": null,
   "id": "37a37f5b",
   "metadata": {},
   "outputs": [],
   "source": [
    "numeric_cols = ['Global_active_power','Global_reactive_power','Voltage',\n",
    "                'Global_intensity','Sub_metering_1','Sub_metering_2','Sub_metering_3']\n",
    "df[numeric_cols] = df[numeric_cols].astype(float)"
   ]
  },
  {
   "cell_type": "markdown",
   "id": "25f44596",
   "metadata": {},
   "source": [
    "## 3. Engineer Time-Based Features"
   ]
  },
  {
   "cell_type": "code",
   "execution_count": null,
   "id": "95356231",
   "metadata": {},
   "outputs": [],
   "source": [
    "df['hour'] = df['datetime'].dt.hour\n",
    "df['day_of_week'] = df['datetime'].dt.dayofweek"
   ]
  },
  {
   "cell_type": "markdown",
   "id": "79387dc3",
   "metadata": {},
   "source": [
    "## 4. Encode Cyclical Time Features"
   ]
  },
  {
   "cell_type": "code",
   "execution_count": null,
   "id": "4f718f75",
   "metadata": {},
   "outputs": [],
   "source": [
    "import numpy as np\n",
    "\n",
    "df['hour_sin'] = np.sin(2 * np.pi * df['hour']/24)\n",
    "df['hour_cos'] = np.cos(2 * np.pi * df['hour']/24)"
   ]
  },
  {
   "cell_type": "markdown",
   "id": "85f67f42",
   "metadata": {},
   "source": [
    "## 5. Scale Features (Standardization and MinMax)"
   ]
  },
  {
   "cell_type": "code",
   "execution_count": null,
   "id": "53ee8836",
   "metadata": {},
   "outputs": [],
   "source": [
    "from sklearn.preprocessing import StandardScaler, MinMaxScaler\n",
    "\n",
    "scaler_std = StandardScaler()\n",
    "scaler_minmax = MinMaxScaler()\n",
    "\n",
    "df_std = pd.DataFrame(scaler_std.fit_transform(df[numeric_cols]), columns=numeric_cols)\n",
    "df_minmax = pd.DataFrame(scaler_minmax.fit_transform(df[numeric_cols]), columns=numeric_cols)"
   ]
  },
  {
   "cell_type": "markdown",
   "id": "75c48bd2",
   "metadata": {},
   "source": [
    "## 6. Interaction Feature Example (Apparent Power)"
   ]
  },
  {
   "cell_type": "code",
   "execution_count": null,
   "id": "bdcc3e9e",
   "metadata": {},
   "outputs": [],
   "source": [
    "df['Apparent_Power'] = (df['Global_active_power']**2 + df['Global_reactive_power']**2)**0.5"
   ]
  },
  {
   "cell_type": "markdown",
   "id": "faa5748e",
   "metadata": {},
   "source": [
    "## 7. Save Feature Matrix"
   ]
  },
  {
   "cell_type": "code",
   "execution_count": null,
   "id": "e5695819",
   "metadata": {},
   "outputs": [],
   "source": [
    "df.to_csv('data/features.csv', index=False)"
   ]
  }
 ],
 "metadata": {},
 "nbformat": 4,
 "nbformat_minor": 5
}
