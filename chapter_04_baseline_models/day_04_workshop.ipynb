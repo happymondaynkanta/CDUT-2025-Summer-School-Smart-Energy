{
 "cells": [
  {
   "cell_type": "markdown",
   "id": "5958c1c4",
   "metadata": {},
   "source": [
    "# Chapter 4: Baseline Machine Learning Models"
   ]
  },
  {
   "cell_type": "markdown",
   "id": "4c865d3a",
   "metadata": {},
   "source": [
    "In this notebook, we will build and evaluate OLS and Random Forest regressors on the energy dataset, using key metrics and diagnostic plots."
   ]
  },
  {
   "cell_type": "markdown",
   "id": "df042983",
   "metadata": {},
   "source": [
    "## 1. Load Libraries and Data"
   ]
  },
  {
   "cell_type": "code",
   "execution_count": null,
   "id": "d2395bce",
   "metadata": {},
   "outputs": [],
   "source": [
    "import pandas as pd\n",
    "import numpy as np\n",
    "import matplotlib.pyplot as plt\n",
    "import seaborn as sns\n",
    "\n",
    "from sklearn.model_selection import train_test_split\n",
    "from sklearn.linear_model import LinearRegression\n",
    "from sklearn.ensemble import RandomForestRegressor\n",
    "from sklearn.metrics import mean_squared_error, mean_absolute_error, r2_score\n",
    "\n",
    "df = pd.read_csv('data/features.csv')"
   ]
  },
  {
   "cell_type": "markdown",
   "id": "42453dcc",
   "metadata": {},
   "source": [
    "## 2. Define Features and Target"
   ]
  },
  {
   "cell_type": "code",
   "execution_count": null,
   "id": "eb5310f9",
   "metadata": {},
   "outputs": [],
   "source": [
    "X = df.drop(columns=['Global_active_power', 'datetime'])\n",
    "y = df['Global_active_power']"
   ]
  },
  {
   "cell_type": "markdown",
   "id": "785b629e",
   "metadata": {},
   "source": [
    "## 3. Train-Test Split (80/20)"
   ]
  },
  {
   "cell_type": "code",
   "execution_count": null,
   "id": "49e7ae28",
   "metadata": {},
   "outputs": [],
   "source": [
    "X_train, X_test, y_train, y_test = train_test_split(X, y, test_size=0.2, shuffle=False)"
   ]
  },
  {
   "cell_type": "markdown",
   "id": "c88a1d26",
   "metadata": {},
   "source": [
    "## 4. OLS Regression"
   ]
  },
  {
   "cell_type": "code",
   "execution_count": null,
   "id": "532efea7",
   "metadata": {},
   "outputs": [],
   "source": [
    "ols = LinearRegression()\n",
    "ols.fit(X_train, y_train)\n",
    "y_pred_ols = ols.predict(X_test)"
   ]
  },
  {
   "cell_type": "markdown",
   "id": "b98d579f",
   "metadata": {},
   "source": [
    "## 5. Random Forest Regression"
   ]
  },
  {
   "cell_type": "code",
   "execution_count": null,
   "id": "ec1105cb",
   "metadata": {},
   "outputs": [],
   "source": [
    "rf = RandomForestRegressor(n_estimators=200, random_state=42)\n",
    "rf.fit(X_train, y_train)\n",
    "y_pred_rf = rf.predict(X_test)"
   ]
  },
  {
   "cell_type": "markdown",
   "id": "bb251f3d",
   "metadata": {},
   "source": [
    "## 6. Evaluation Metrics"
   ]
  },
  {
   "cell_type": "code",
   "execution_count": null,
   "id": "35a191ad",
   "metadata": {},
   "outputs": [],
   "source": [
    "def print_metrics(y_true, y_pred, model_name):\n",
    "    print(f'--- {model_name} ---')\n",
    "    print(f'MAE: {mean_absolute_error(y_true, y_pred):.3f}')\n",
    "    print(f'RMSE: {mean_squared_error(y_true, y_pred, squared=False):.3f}')\n",
    "    print(f'R2: {r2_score(y_true, y_pred):.3f}\\n')\n",
    "\n",
    "print_metrics(y_test, y_pred_ols, 'OLS')\n",
    "print_metrics(y_test, y_pred_rf, 'Random Forest')"
   ]
  },
  {
   "cell_type": "markdown",
   "id": "395c1262",
   "metadata": {},
   "source": [
    "## 7. Diagnostic Plots"
   ]
  },
  {
   "cell_type": "code",
   "execution_count": null,
   "id": "52ce5c90",
   "metadata": {},
   "outputs": [],
   "source": [
    "plt.figure(figsize=(6, 6))\n",
    "plt.scatter(y_test, y_pred_rf, alpha=0.3)\n",
    "plt.plot([y_test.min(), y_test.max()], [y_test.min(), y_test.max()], 'r--')\n",
    "plt.xlabel('Actual')\n",
    "plt.ylabel('Predicted')\n",
    "plt.title('Random Forest: Actual vs Predicted')\n",
    "plt.show()"
   ]
  },
  {
   "cell_type": "code",
   "execution_count": null,
   "id": "763a4b61",
   "metadata": {},
   "outputs": [],
   "source": [
    "residuals = y_test - y_pred_rf\n",
    "plt.figure(figsize=(10, 4))\n",
    "plt.plot(residuals.values)\n",
    "plt.axhline(y=0, color='r', linestyle='--')\n",
    "plt.title('Residual Plot')\n",
    "plt.xlabel('Time')\n",
    "plt.ylabel('Residual')\n",
    "plt.show()"
   ]
  },
  {
   "cell_type": "code",
   "execution_count": null,
   "id": "f6845dd3",
   "metadata": {},
   "outputs": [],
   "source": [
    "importances = rf.feature_importances_\n",
    "feat_df = pd.DataFrame({'feature': X.columns, 'importance': importances})\n",
    "feat_df.sort_values(by='importance', ascending=False, inplace=True)\n",
    "plt.figure(figsize=(10, 5))\n",
    "sns.barplot(x='importance', y='feature', data=feat_df)\n",
    "plt.title('Feature Importance')\n",
    "plt.show()"
   ]
  }
 ],
 "metadata": {},
 "nbformat": 4,
 "nbformat_minor": 5
}
