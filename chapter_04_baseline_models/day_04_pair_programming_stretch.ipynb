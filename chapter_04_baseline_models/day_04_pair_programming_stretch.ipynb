{
 "cells": [
  {
   "cell_type": "markdown",
   "id": "fa13ea95",
   "metadata": {},
   "source": [
    "# 🤝 Expanded Pair Programming Task\n",
    "**⏱️ Estimated Duration:** 3–4 hours\n",
    "**🎯 Goal:** Fill in the blanks (___), answer embedded questions, and attempt optional stretch goals. Work in pairs and annotate your thought process!"
   ]
  },
  {
   "cell_type": "markdown",
   "id": "1b7ef84a",
   "metadata": {},
   "source": [
    "# 🤝 Chapter 4: Pair Programming Task – Baseline ML Models\n",
    "\n",
    "> 💬 *Discuss with your partner: Why is this step important?*"
   ]
  },
  {
   "cell_type": "markdown",
   "id": "884068b9",
   "metadata": {},
   "source": [
    "Fill in the blanks (`___`) based on your understanding of OLS and Random Forest regressors.\n",
    "\n",
    "> 💬 *Discuss with your partner: Why is this step important?*"
   ]
  },
  {
   "cell_type": "code",
   "execution_count": null,
   "id": "a880773c",
   "metadata": {},
   "outputs": [],
   "source": [
    "# 🔧 TODO: Complete the missing code below 👇\n",
    "import pandas as ___\n",
    "from sklearn.linear_model import ___\n",
    "from sklearn.ensemble import ___\n",
    "from sklearn.metrics import mean_absolute_error, mean_squared_error, r2_score\n",
    "df = pd.read_csv('data/features.csv')"
   ]
  },
  {
   "cell_type": "code",
   "execution_count": null,
   "id": "ed06dd10",
   "metadata": {},
   "outputs": [],
   "source": [
    "# 🔧 TODO: Complete the missing code below 👇\n",
    "X = df.drop(columns=['Global_active_power', 'datetime'])\n",
    "y = df['___']"
   ]
  },
  {
   "cell_type": "code",
   "execution_count": null,
   "id": "bb903944",
   "metadata": {},
   "outputs": [],
   "source": [
    "# 🔧 TODO: Complete the missing code below 👇\n",
    "from sklearn.model_selection import ___\n",
    "X_train, X_test, y_train, y_test = train_test_split(X, y, test_size=0.2, shuffle=___)"
   ]
  },
  {
   "cell_type": "code",
   "execution_count": null,
   "id": "9be8bd14",
   "metadata": {},
   "outputs": [],
   "source": [
    "# 🔧 TODO: Complete the missing code below 👇\n",
    "ols = ___()\n",
    "ols.fit(X_train, y_train)\n",
    "y_pred_ols = ols.predict(___)"
   ]
  },
  {
   "cell_type": "code",
   "execution_count": null,
   "id": "eedd2187",
   "metadata": {},
   "outputs": [],
   "source": [
    "# 🔧 TODO: Complete the missing code below 👇\n",
    "rf = RandomForestRegressor(n_estimators=___, random_state=42)\n",
    "rf.fit(X_train, y_train)\n",
    "y_pred_rf = rf.predict(___)"
   ]
  },
  {
   "cell_type": "code",
   "execution_count": null,
   "id": "8bae3085",
   "metadata": {},
   "outputs": [],
   "source": [
    "# 🔧 TODO: Complete the missing code below 👇\n",
    "def print_metrics(y_true, y_pred, model_name):\n",
    "    print(f'MAE: {___(y_true, y_pred):.3f}')\n",
    "    print(f'RMSE: {mean_squared_error(y_true, y_pred, squared=False):.3f}')\n",
    "    print(f'R2: {___(y_true, y_pred):.3f}')"
   ]
  },
  {
   "cell_type": "code",
   "execution_count": null,
   "id": "cd1b7f82",
   "metadata": {},
   "outputs": [],
   "source": [
    "# 🔧 TODO: Complete the missing code below 👇\n",
    "print_metrics(y_test, y_pred_ols, 'OLS')\n",
    "print_metrics(___, y_pred_rf, 'Random Forest')"
   ]
  },
  {
   "cell_type": "markdown",
   "id": "525cfdea",
   "metadata": {},
   "source": [
    "---\n",
    "## 💪 Final Stretch Challenge\n",
    "**Write a function** that automates a key task from above (e.g., EDA, scaling, or metric computation), and apply it on a test subset.\n",
    "Can you visualize the impact of your feature or model using plots? Comment below!"
   ]
  },
  {
   "cell_type": "code",
   "execution_count": null,
   "id": "8fb2a966",
   "metadata": {},
   "outputs": [],
   "source": [
    "# ✍️ Write your custom function here:\n"
   ]
  }
 ],
 "metadata": {},
 "nbformat": 4,
 "nbformat_minor": 5
}
