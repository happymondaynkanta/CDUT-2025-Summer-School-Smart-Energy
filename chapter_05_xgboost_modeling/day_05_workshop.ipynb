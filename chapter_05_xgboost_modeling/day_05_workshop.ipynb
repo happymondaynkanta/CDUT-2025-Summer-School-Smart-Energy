{
 "cells": [
  {
   "cell_type": "markdown",
   "id": "1903adf4",
   "metadata": {},
   "source": [
    "# 🎓 Chapter 5: Gradient Boosting with XGBoost"
   ]
  },
  {
   "cell_type": "markdown",
   "id": "ed2e5897",
   "metadata": {},
   "source": [
    "In this notebook, we will train a gradient boosting model using XGBoost for predicting power consumption. This includes cross-validation, plotting the learning curve, saving the model, and interpreting results."
   ]
  },
  {
   "cell_type": "markdown",
   "id": "a4135c47",
   "metadata": {},
   "source": [
    "## 1. Install & Import Required Libraries"
   ]
  },
  {
   "cell_type": "code",
   "execution_count": null,
   "id": "61dba0ae",
   "metadata": {},
   "outputs": [],
   "source": [
    "!pip install xgboost --quiet\n",
    "\n",
    "import pandas as pd\n",
    "import numpy as np\n",
    "import matplotlib.pyplot as plt\n",
    "import xgboost as xgb"
   ]
  },
  {
   "cell_type": "markdown",
   "id": "e6652b56",
   "metadata": {},
   "source": [
    "## 2. Load Dataset and Prepare Features"
   ]
  },
  {
   "cell_type": "code",
   "execution_count": null,
   "id": "97ce1b4f",
   "metadata": {},
   "outputs": [],
   "source": [
    "df = pd.read_csv('data/features.csv')\n",
    "X = df.drop(columns=['Global_active_power', 'datetime'])\n",
    "y = df['Global_active_power']"
   ]
  },
  {
   "cell_type": "markdown",
   "id": "974d1137",
   "metadata": {},
   "source": [
    "## 3. Convert Dataset to DMatrix Format"
   ]
  },
  {
   "cell_type": "code",
   "execution_count": null,
   "id": "3b2eda31",
   "metadata": {},
   "outputs": [],
   "source": [
    "dtrain = xgb.DMatrix(X, label=y)"
   ]
  },
  {
   "cell_type": "markdown",
   "id": "07a36a76",
   "metadata": {},
   "source": [
    "## 4. Define XGBoost Training Parameters"
   ]
  },
  {
   "cell_type": "code",
   "execution_count": null,
   "id": "c5a2d81f",
   "metadata": {},
   "outputs": [],
   "source": [
    "params = {\n",
    "    'objective': 'reg:squarederror',\n",
    "    'max_depth': 6,\n",
    "    'eta': 0.1,\n",
    "    'subsample': 0.8,\n",
    "    'colsample_bytree': 0.8,\n",
    "    'seed': 42\n",
    "}"
   ]
  },
  {
   "cell_type": "markdown",
   "id": "259f0446",
   "metadata": {},
   "source": [
    "## 5. Cross-Validation"
   ]
  },
  {
   "cell_type": "code",
   "execution_count": null,
   "id": "180d55bc",
   "metadata": {},
   "outputs": [],
   "source": [
    "cv_results = xgb.cv(\n",
    "    params=params,\n",
    "    dtrain=dtrain,\n",
    "    num_boost_round=100,\n",
    "    nfold=5,\n",
    "    metrics='rmse',\n",
    "    early_stopping_rounds=10,\n",
    "    verbose_eval=False\n",
    ")\n",
    "\n",
    "cv_results.tail()"
   ]
  },
  {
   "cell_type": "markdown",
   "id": "fa93878d",
   "metadata": {},
   "source": [
    "## 6. Train Final Model"
   ]
  },
  {
   "cell_type": "code",
   "execution_count": null,
   "id": "3c3ba999",
   "metadata": {},
   "outputs": [],
   "source": [
    "model = xgb.train(params=params, dtrain=dtrain, num_boost_round=cv_results.shape[0])"
   ]
  },
  {
   "cell_type": "markdown",
   "id": "2e304cb3",
   "metadata": {},
   "source": [
    "## 7. Save the Trained Model"
   ]
  },
  {
   "cell_type": "code",
   "execution_count": null,
   "id": "7d18a1da",
   "metadata": {},
   "outputs": [],
   "source": [
    "model.save_model('models/xgb_energy_model.json')"
   ]
  },
  {
   "cell_type": "markdown",
   "id": "2fa92e95",
   "metadata": {},
   "source": [
    "## 8. Plot Learning Curve"
   ]
  },
  {
   "cell_type": "code",
   "execution_count": null,
   "id": "53568832",
   "metadata": {},
   "outputs": [],
   "source": [
    "plt.figure(figsize=(10, 5))\n",
    "plt.plot(cv_results['train-rmse-mean'], label='Train')\n",
    "plt.plot(cv_results['test-rmse-mean'], label='Test')\n",
    "plt.title('Learning Curve (RMSE)')\n",
    "plt.xlabel('Boosting Round')\n",
    "plt.ylabel('RMSE')\n",
    "plt.legend()\n",
    "plt.grid(True)\n",
    "plt.show()"
   ]
  },
  {
   "cell_type": "markdown",
   "id": "9eeba3f8",
   "metadata": {},
   "source": [
    "## 9. Feature Importance"
   ]
  },
  {
   "cell_type": "code",
   "execution_count": null,
   "id": "8cfcd248",
   "metadata": {},
   "outputs": [],
   "source": [
    "xgb.plot_importance(model, max_num_features=10)\n",
    "plt.title('Top 10 Feature Importances')\n",
    "plt.show()"
   ]
  }
 ],
 "metadata": {},
 "nbformat": 4,
 "nbformat_minor": 5
}
