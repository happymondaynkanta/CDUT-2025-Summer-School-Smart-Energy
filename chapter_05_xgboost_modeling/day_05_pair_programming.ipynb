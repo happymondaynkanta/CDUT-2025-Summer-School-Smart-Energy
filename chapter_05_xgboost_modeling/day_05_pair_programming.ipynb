{
 "cells": [
  {
   "cell_type": "markdown",
   "id": "b7bb1330",
   "metadata": {},
   "source": [
    "# 🤝 Chapter 5: 2-Hour Pair Programming Task – Gradient Boosting with XGBoost"
   ]
  },
  {
   "cell_type": "markdown",
   "id": "8958872b",
   "metadata": {},
   "source": [
    "This notebook contains core tasks and **stretch challenges**. Fill in all `___` blanks to complete your implementation."
   ]
  },
  {
   "cell_type": "markdown",
   "id": "2e084f05",
   "metadata": {},
   "source": [
    "## ✅ Core Task 1: Install and Import Packages"
   ]
  },
  {
   "cell_type": "code",
   "execution_count": null,
   "id": "c4cb573d",
   "metadata": {},
   "outputs": [],
   "source": [
    "!pip install ___ --quiet\n",
    "\n",
    "import pandas as pd\n",
    "import numpy as np\n",
    "import matplotlib.pyplot as plt\n",
    "import xgboost as ___"
   ]
  },
  {
   "cell_type": "markdown",
   "id": "d3d75fc3",
   "metadata": {},
   "source": [
    "## ✅ Core Task 2: Load & Prepare Dataset"
   ]
  },
  {
   "cell_type": "code",
   "execution_count": null,
   "id": "b407f105",
   "metadata": {},
   "outputs": [],
   "source": [
    "df = pd.read_csv('data/features.csv')\n",
    "X = df.drop(columns=['Global_active_power', 'datetime'])\n",
    "y = df['___']"
   ]
  },
  {
   "cell_type": "markdown",
   "id": "6b499300",
   "metadata": {},
   "source": [
    "## ✅ Core Task 3: Convert Data to DMatrix"
   ]
  },
  {
   "cell_type": "code",
   "execution_count": null,
   "id": "26a622d0",
   "metadata": {},
   "outputs": [],
   "source": [
    "dtrain = xgb.___(X, label=y)"
   ]
  },
  {
   "cell_type": "markdown",
   "id": "925c381a",
   "metadata": {},
   "source": [
    "## ✅ Core Task 4: Define Training Parameters"
   ]
  },
  {
   "cell_type": "code",
   "execution_count": null,
   "id": "9ddacf05",
   "metadata": {},
   "outputs": [],
   "source": [
    "params = {\n",
    "    'objective': 'reg:___',\n",
    "    'max_depth': ___,\n",
    "    'eta': ___,\n",
    "    'subsample': ___,\n",
    "    'colsample_bytree': ___,\n",
    "    'seed': 42\n",
    "}"
   ]
  },
  {
   "cell_type": "markdown",
   "id": "3010c86f",
   "metadata": {},
   "source": [
    "## ✅ Core Task 5: Cross-Validation"
   ]
  },
  {
   "cell_type": "code",
   "execution_count": null,
   "id": "ab0946b2",
   "metadata": {},
   "outputs": [],
   "source": [
    "cv_results = xgb.cv(\n",
    "    params=params,\n",
    "    dtrain=___,\n",
    "    num_boost_round=100,\n",
    "    nfold=___,\n",
    "    metrics='___',\n",
    "    early_stopping_rounds=10,\n",
    "    verbose_eval=False\n",
    ")\n",
    "\n",
    "cv_results.tail()"
   ]
  },
  {
   "cell_type": "markdown",
   "id": "d76d4504",
   "metadata": {},
   "source": [
    "## ✅ Core Task 6: Train and Save Model"
   ]
  },
  {
   "cell_type": "code",
   "execution_count": null,
   "id": "f54b9da9",
   "metadata": {},
   "outputs": [],
   "source": [
    "model = xgb.___(params=params, dtrain=dtrain, num_boost_round=cv_results.shape[0])\n",
    "model.save_model('models/xgb_energy_model.json')"
   ]
  },
  {
   "cell_type": "markdown",
   "id": "2977f1f8",
   "metadata": {},
   "source": [
    "## ✅ Core Task 7: Plot Learning Curve"
   ]
  },
  {
   "cell_type": "code",
   "execution_count": null,
   "id": "29ddd810",
   "metadata": {},
   "outputs": [],
   "source": [
    "plt.figure(figsize=(10, 5))\n",
    "plt.plot(cv_results['train-rmse-mean'], label='Train')\n",
    "plt.plot(cv_results['test-rmse-mean'], label='Test')\n",
    "plt.legend()\n",
    "plt.title('Learning Curve (RMSE)')\n",
    "plt.xlabel('Boosting Round')\n",
    "plt.ylabel('RMSE')\n",
    "plt.grid(True)\n",
    "plt.show()"
   ]
  },
  {
   "cell_type": "markdown",
   "id": "e984fa29",
   "metadata": {},
   "source": [
    "---\n",
    "\n",
    "## 💪 Stretch Task 1: Feature Importance Visualization"
   ]
  },
  {
   "cell_type": "code",
   "execution_count": null,
   "id": "072c46fc",
   "metadata": {},
   "outputs": [],
   "source": [
    "xgb.plot_importance(model, max_num_features=10)\n",
    "plt.title('Top 10 Feature Importances')\n",
    "plt.show()"
   ]
  },
  {
   "cell_type": "markdown",
   "id": "b8c699c2",
   "metadata": {},
   "source": [
    "## 💪 Stretch Task 2: Model Inference (Test Run)"
   ]
  },
  {
   "cell_type": "code",
   "execution_count": null,
   "id": "f2b75423",
   "metadata": {},
   "outputs": [],
   "source": [
    "# Simulate single prediction (e.g. first row of X)\n",
    "X_example = X.iloc[[0]]\n",
    "dmatrix = xgb.DMatrix(X_example)\n",
    "y_pred_example = model.predict(dmatrix)\n",
    "print('Predicted power usage:', y_pred_example[0])"
   ]
  },
  {
   "cell_type": "markdown",
   "id": "83f4d140",
   "metadata": {},
   "source": [
    "## 💪 Stretch Task 3: Save Predictions to CSV"
   ]
  },
  {
   "cell_type": "code",
   "execution_count": null,
   "id": "7822c677",
   "metadata": {},
   "outputs": [],
   "source": [
    "dall = xgb.DMatrix(X)\n",
    "y_all_preds = model.predict(dall)\n",
    "df['Predicted_Power'] = y_all_preds\n",
    "df[['datetime', 'Global_active_power', 'Predicted_Power']].to_csv('data/predictions.csv', index=False)"
   ]
  }
 ],
 "metadata": {},
 "nbformat": 4,
 "nbformat_minor": 5
}
